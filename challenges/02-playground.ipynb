{
 "cells": [
  {
   "cell_type": "markdown",
   "metadata": {},
   "source": [
    "# Lab 2 - Exploring the playground\n",
    "\n",
    "In Azure AI Studio, navigate to the Playground tab. This is where you can interact with the GPT model, customize the system message and experiment with different settings.\n",
    "\n",
    "![02.png](../img/02.png)"
   ]
  }
 ],
 "metadata": {
  "language_info": {
   "name": "python"
  }
 },
 "nbformat": 4,
 "nbformat_minor": 2
}
