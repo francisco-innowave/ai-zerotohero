{
 "cells": [
  {
   "cell_type": "markdown",
   "metadata": {},
   "source": [
    "# Lab 3.2 (Studio version) - Assistants\n",
    "\n",
    "Azure OpenAI Assistants (Preview) allows you to create AI assistants tailored to your needs through custom instructions and augmented by advanced tools like code interpreter, and custom functions.\n",
    "\n",
    "In this lab, you will learn how to create an AI assistant **in Azure AI Studio** using Azure OpenAI Assistantsand how to use the code interpreter to enhance the assistant's capabilities.\n",
    "\n",
    "## Step 2.1\n",
    "\n",
    "Follow all the steps in this document https://learn.microsoft.com/en-us/azure/ai-services/openai/assistants-quickstart?tabs=command-line%2Ctypescript&pivots=programming-language-ai-studio\n",
    "\n",
    "## Step 2.2 - Data visualization\n",
    "\n",
    "Adding to what the document shows, you can also use the code interpreter to do things like data visualization, file generation and more. \n",
    "\n",
    "* Modify the system message to \"You are an AI assistant that can write code to help answer math questions and make visualizations\"\n",
    "* Click Save\n",
    "* Ask \"Draw a sinewave\" to see the code interpreter draw a visualization onscreen\n",
    "* Ask \"Draw a squarewave\" to see the code interpreter draw another visualization onscreen\n",
    "  \n",
    "This functionality can also be applied to other use cases like data analysis.\n",
    "\n",
    "## Step 2.3 - Message history\n",
    "\n",
    "Assistants also save message history by default. \n",
    "\n",
    "* Ask \"What is my message history?\""
   ]
  }
 ],
 "metadata": {
  "language_info": {
   "name": "python"
  }
 },
 "nbformat": 4,
 "nbformat_minor": 2
}
