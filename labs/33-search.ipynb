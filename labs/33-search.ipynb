{
 "cells": [
  {
   "cell_type": "markdown",
   "metadata": {},
   "source": [
    "# Lab 3.3 - Azure AI Search\n",
    "\n"
   ]
  },
  {
   "cell_type": "markdown",
   "metadata": {},
   "source": [
    "# Step 1: Upload data into Azure Blob Storage\n",
    "\n",
    "1. If you don't have one, create a new Azure Storage account\n",
    "2. Inside that account, create a new container called `hotels`\n",
    "3. Inside that account, create a new container called `unsplash-images`\n",
    "   \n",
    "![Storage Account](../img/search02.png)\n",
    "\n",
    "4. Clone the https://github.com/Azure-Samples/azure-search-sample-data repo\n",
    "5. Upload the `./hotels/HotelsData_toAzureSearch.JSON` file to the `hotels` container\n",
    "6. Upload the contents of the `./unsplah-images/landmarks` folder to the `unsplash-images` container\n",
    "\n",
    "# Step 2: Create a new Azure Search service\n",
    "\n",
    "1. In the Azure Portal, create a new Azure AI Search service.\n",
    "2. Choose France Central (or the region you used before)\n",
    "3. Choose Basic or higher tier\n",
    "4. You can leave everything else as default\n",
    "5. Click on Review + Create\n",
    "\n",
    "![AI Search service](../img/search01.png)\n",
    "\n",
    "# Step 3: Import hotel data into Azure AI Search\n",
    "\n",
    "1. In Azure AI Search, start the \"Import and vectorize data\" wizard\n",
    "\n",
    "![Import and Vectorize](../img/search03.png)\n",
    "\n",
    "2. Select the Azure Blob Storage account and the hotels container\n",
    "3. Check `Enable deletion tracking` and click on Next\n",
    "4. Choose the Azure OpenAI Service created before\n",
    "5. Choose an embedding model which will be used to vectorize the data. If you don't have one yet, just go with `text-embedding-ada-002`\n",
    "6. Click Next\n",
    "7. Leave `Vectorize images` and `Extract text from images` unchecked and click Next\n",
    "8. Leave `Enable semantic ranker` checked and click Next\n",
    "9. Give it a friendly name in `Objects name prefix` (eg: hotels) and click Create\n",
    "\n",
    "# Step 4: Experiment with queries\n",
    "\n",
    "1. Make sure the indexing job is complete (it may take a few minutes). You should see ~45 documents in the Index.\n",
    "\n",
    "![Index](../img/search04.png)\n"
   ]
  },
  {
   "cell_type": "code",
   "execution_count": null,
   "metadata": {},
   "outputs": [],
   "source": [
    "from azure.core.credentials import AzureKeyCredential\n",
    "from azure.search.documents import SearchClient\n",
    "from azure.search.documents.models import VectorizedQuery\n",
    "\n",
    "# Load the environment variables with dotenv\n",
    "from dotenv import load_dotenv\n",
    "load_dotenv()\n",
    "import os\n",
    "\n",
    "service_endpoint = os.getenv(\"AZURE_AI_SEARCH_ENDPOINT\")\n",
    "key = os.getenv(\"AZURE_AI_SEARCH_API_KEY\")\n",
    "index_name = \"hotels\" # replace this if you named your index differently\n",
    "\n",
    "# Create a client\n",
    "search_client = SearchClient(service_endpoint, index_name, AzureKeyCredential(key))\n",
    "\n",
    "print('Using endpoint', service_endpoint)\n",
    "print('Using index', index_name)"
   ]
  },
  {
   "cell_type": "code",
   "execution_count": null,
   "metadata": {},
   "outputs": [],
   "source": [
    "# The deployment name of the embedding model used in Azure AI Search\n",
    "embedding_deployment_name = \"ada-embedding\" # Change this if you used another one\n",
    "\n",
    "from openai import AzureOpenAI\n",
    "import json \n",
    "\n",
    "# Endpoint and API key can be found in Azure AI Studio -> Project Settings -> Project Properties -> Get API endpoints\n",
    "AZURE_OPENAI_ENDPOINT = os.getenv(\"AZURE_OPENAI_ENDPOINT\")\n",
    "AZURE_OPENAI_API_KEY = os.getenv(\"AZURE_OPENAI_API_KEY\")\n",
    "# The name of the deployment to tbe used. Found in Azure AI Studio -> Deployments\n",
    "AZURE_OPENAI_DEPLOYMENT_ID = os.getenv(\"AZURE_OPENAI_DEPLOYMENT_ID\")\n",
    "\n",
    "# Print the endpoint to verify it was loaded correctly\n",
    "print('If you see some text below, the endpoint was loaded successfully.')\n",
    "print(AZURE_OPENAI_ENDPOINT)\n",
    "\n",
    "client = AzureOpenAI(\n",
    "    azure_endpoint=AZURE_OPENAI_ENDPOINT,\n",
    "    api_key=AZURE_OPENAI_API_KEY,\n",
    "    api_version=\"2024-02-01\",\n",
    "    azure_deployment=embedding_deployment_name\n",
    ")\n"
   ]
  },
  {
   "cell_type": "code",
   "execution_count": null,
   "metadata": {},
   "outputs": [],
   "source": [
    "# Let's see vectors in action\n",
    "\n",
    "query = \"Which ones are city center hotels?\"\n",
    "response = client.embeddings.create(input=[query], model=embedding_deployment_name)\n",
    "embeddings = response.data[0].embedding\n",
    "\n",
    "print(\"Vector length is \", len(embeddings))\n",
    "print(\"Vector is \", embeddings)"
   ]
  },
  {
   "cell_type": "code",
   "execution_count": null,
   "metadata": {},
   "outputs": [],
   "source": [
    "# Now let's do an actual search using vectors\n",
    "\n",
    "vector_query = VectorizedQuery(vector=embeddings, k_nearest_neighbors=3, fields=\"text_vector\")\n",
    "results = search_client.search(\n",
    "    search_text=query, \n",
    "    query_type=\"semantic\", \n",
    "    vector_queries=[vector_query])\n",
    "\n",
    "# view results\n",
    "for result in results:\n",
    "    print(json.dumps(result, indent=2))"
   ]
  },
  {
   "cell_type": "code",
   "execution_count": null,
   "metadata": {},
   "outputs": [],
   "source": [
    "# And another one\n",
    "query = \"Which hotels are in the mountains?\"\n",
    "response = client.embeddings.create(input=[query], model=embedding_deployment_name)\n",
    "embeddings = response.data[0].embedding\n",
    "\n",
    "vector_query = VectorizedQuery(vector=embeddings, k_nearest_neighbors=3, fields=\"text_vector\")\n",
    "results = search_client.search(\n",
    "    search_text=query, \n",
    "    query_type=\"semantic\", \n",
    "    vector_queries=[vector_query])\n",
    "\n",
    "# view results\n",
    "for result in results:\n",
    "    print(json.dumps(result, indent=2))"
   ]
  },
  {
   "cell_type": "markdown",
   "metadata": {},
   "source": [
    "## Optional next steps\n",
    "\n",
    "There are many labs and end-to-end examples available in the Azure AI Search documentation and in GitHub. Here's some you could try:\n",
    "\n",
    "* https://github.com/Azure/azure-search-vector-samples/tree/main\n",
    "* https://github.com/Azure/azure-search-vector-samples/blob/main/demo-python/code/basic-vector-workflow/azure-search-vector-python-sample.ipynb"
   ]
  }
 ],
 "metadata": {
  "kernelspec": {
   "display_name": "env",
   "language": "python",
   "name": "python3"
  },
  "language_info": {
   "codemirror_mode": {
    "name": "ipython",
    "version": 3
   },
   "file_extension": ".py",
   "mimetype": "text/x-python",
   "name": "python",
   "nbconvert_exporter": "python",
   "pygments_lexer": "ipython3",
   "version": "3.12.2"
  }
 },
 "nbformat": 4,
 "nbformat_minor": 2
}
