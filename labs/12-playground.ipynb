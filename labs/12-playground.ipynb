{
 "cells": [
  {
   "cell_type": "markdown",
   "metadata": {},
   "source": [
    "# Lab 2 - Exploring the playground\n",
    "\n",
    "In Azure AI Studio, navigate to the Playground tab. This is where you can interact with the GPT model, customize the system message and experiment with different settings.\n",
    "\n",
    "## Step 2.1: Deploy a model\n",
    "\n",
    "Before you can use a model, you need to deploy it. This can be done in the Deployments section.\n",
    "\n",
    "Click New Deployment and choose the GPT-4 model. You can choose the default settings and click Deploy. There are no costs from deploying a GPT model, they are priced per tokens when called.\n",
    "\n",
    "![aistudio03.png](../img/aistudio03.png)\n",
    "\n",
    "## Step 2.2: Explore the playground\n",
    "\n",
    "This lab is about exploring the playground. Some concepts will be used later on and it's crucial to understand them now in a more visual way.\n",
    "\n",
    "**Note:** there's also an option to add your own data but we'll skip that for now and explore that in more detail in the next labs.\n",
    "\n",
    "![02.png](../img/02.png)\n",
    "\n",
    "Here's some suggestions:\n",
    "\n",
    "* Ask questions in the chat\n",
    "* Generate content and play with the parameters to see how the generated content is affected\n",
    "* Customize the system message (don't forget to hit \"Apply\")\n",
    "* Deploy another model and see how the generated content changes\n",
    "* View the code used to make the API call\n",
    "* Switch to JSON output\n",
    "\n",
    "There's also an option to deploy your Copilot to an Azure Web App. This is a great way to share your Copilot with others. However, this is out of scope for our labs."
   ]
  }
 ],
 "metadata": {
  "language_info": {
   "name": "python"
  }
 },
 "nbformat": 4,
 "nbformat_minor": 2
}
