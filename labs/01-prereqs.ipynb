{
 "cells": [
  {
   "cell_type": "markdown",
   "metadata": {},
   "source": [
    "# Lab 0.1 - Pre-requisites\n",
    "\n",
    "## Step 1 - Ensuring all libraries are installed\n",
    "\n",
    "Everything should have been setup by the devcontainer, but just to be sure all required libraries are installed please run the following command:\n",
    "\n",
    "```bash\n",
    "sh post_install.sh\n",
    "```\n",
    "\n",
    "## Step 2 - Environment variables \n",
    "\n",
    "Rename the `.env.example` file to `.env`.\n",
    "\n",
    "We'll be filling the values of the environment variables in the `.env` file as we follow along the labs."
   ]
  }
 ],
 "metadata": {
  "language_info": {
   "name": "python"
  }
 },
 "nbformat": 4,
 "nbformat_minor": 2
}
