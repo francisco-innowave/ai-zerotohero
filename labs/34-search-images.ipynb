{
 "cells": [
  {
   "cell_type": "code",
   "execution_count": null,
   "metadata": {},
   "outputs": [],
   "source": [
    "from azure.core.credentials import AzureKeyCredential\n",
    "from azure.search.documents import SearchClient\n",
    "from azure.search.documents.models import VectorizedQuery, VectorizableTextQuery, VectorizableImageBinaryQuery\n",
    "\n",
    "# Load the environment variables with dotenv\n",
    "from dotenv import load_dotenv\n",
    "load_dotenv()\n",
    "import os\n",
    "\n",
    "service_endpoint = os.getenv(\"AZURE_AI_SEARCH_ENDPOINT\")\n",
    "key = os.getenv(\"AZURE_AI_SEARCH_API_KEY\")\n",
    "index_name = \"vector-1717153805663\" # replace this if you named your index differently\n",
    "\n",
    "# Create a client\n",
    "search_client = SearchClient(service_endpoint, index_name, AzureKeyCredential(key))\n",
    "\n",
    "print('Using endpoint', service_endpoint)\n",
    "print('Using index', index_name)\n",
    "\n",
    "# Connect to storage account where images are stored\n",
    "AZURE_STORAGE_ACCOUNT_NAME = os.getenv(\"AZURE_STORAGE_ACCOUNT_NAME\")\n",
    "AZURE_STORAGE_ACCOUNT_KEY = os.getenv(\"AZURE_STORAGE_ACCOUNT_KEY\")\n",
    "\n",
    "\n",
    "from azure.storage.blob import BlobServiceClient\n",
    "\n",
    "# Create a blob service client\n",
    "blob_service_client = BlobServiceClient(account_url=f\"https://{AZURE_STORAGE_ACCOUNT_NAME}.blob.core.windows.net\", credential=AZURE_STORAGE_ACCOUNT_KEY)\n",
    "\n"
   ]
  },
  {
   "cell_type": "code",
   "execution_count": null,
   "metadata": {},
   "outputs": [],
   "source": [
    "#import requests\n",
    "from azure.storage.blob import BlobServiceClient\n",
    "from IPython.display import display, Image\n",
    "\n",
    "# Create a blob service client\n",
    "    blob_service_client = BlobServiceClient(account_url=\"https://rifiel-public.blob.core.windows.net\", credential=\"<your-account-key>\")"
   ]
  },
  {
   "cell_type": "code",
   "execution_count": null,
   "metadata": {},
   "outputs": [],
   "source": [
    "# A helper function to show images\n",
    "def show_image(blob_name):\n",
    "    blob_client = blob_service_client.get_blob_client(\"images\", blob_name)\n",
    "    stream = blob_client.download_blob().readall()\n",
    "    display(Image(stream, width=200))"
   ]
  },
  {
   "cell_type": "code",
   "execution_count": null,
   "metadata": {},
   "outputs": [],
   "source": [
    "# Define a helper function to search\n",
    "def search(query):\n",
    "    r = search_client.search(\n",
    "        vector_queries=[VectorizableTextQuery(text=query, k_nearest_neighbors=5, fields=\"image_vector\")]\n",
    "    )\n",
    "    first = None\n",
    "    for doc in r:\n",
    "        score_threshold = 0.6\n",
    "        if doc[\"@search.score\"] < score_threshold:\n",
    "            break\n",
    "        if first is None:\n",
    "            first = doc\n",
    "        print(doc[\"@search.score\"],doc[\"title\"], doc[\"metadata_storage_path\"])\n",
    "        show_image(doc[\"title\"])"
   ]
  },
  {
   "cell_type": "code",
   "execution_count": null,
   "metadata": {},
   "outputs": [],
   "source": [
    "search(\"do you have any backpacks?\")"
   ]
  },
  {
   "cell_type": "code",
   "execution_count": null,
   "metadata": {},
   "outputs": [],
   "source": [
    "search(\"do you have any red backpacks?\")"
   ]
  },
  {
   "cell_type": "code",
   "execution_count": null,
   "metadata": {},
   "outputs": [],
   "source": [
    "search(\"I want to go to the mountains. What can you show me?\")"
   ]
  },
  {
   "cell_type": "code",
   "execution_count": null,
   "metadata": {},
   "outputs": [],
   "source": [
    "search(\"do you have something for animal lovers?\")"
   ]
  },
  {
   "cell_type": "code",
   "execution_count": null,
   "metadata": {},
   "outputs": [],
   "source": [
    "search(\"I'd love to go fishing!\")"
   ]
  },
  {
   "cell_type": "code",
   "execution_count": null,
   "metadata": {},
   "outputs": [],
   "source": [
    "search(\"What abot music?\")"
   ]
  }
 ],
 "metadata": {
  "kernelspec": {
   "display_name": "env",
   "language": "python",
   "name": "python3"
  },
  "language_info": {
   "codemirror_mode": {
    "name": "ipython",
    "version": 3
   },
   "file_extension": ".py",
   "mimetype": "text/x-python",
   "name": "python",
   "nbconvert_exporter": "python",
   "pygments_lexer": "ipython3",
   "version": "3.12.2"
  }
 },
 "nbformat": 4,
 "nbformat_minor": 2
}
