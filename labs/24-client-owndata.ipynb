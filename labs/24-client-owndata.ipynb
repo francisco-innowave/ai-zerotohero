{
 "cells": [
  {
   "cell_type": "markdown",
   "metadata": {},
   "source": [
    "# Lab 2.4 - Use your own data from a client app (python)\n",
    "\n",
    "In this lab we'll be expading on the latest one and using our own data when calling the Azure OpenAI API.\n",
    "\n",
    "For reference, the official docs are [here](https://learn.microsoft.com/en-us/azure/ai-services/openai/use-your-data-quickstart?tabs=command-line%2Cpython-new&pivots=programming-language-python).\n",
    "\n",
    "## Ensure required software is installed\n",
    "\n",
    "We'll be using the same libraries as the previous lab. These should have been installed already as they are in requirements.txt\n",
    "\n",
    "* `openai` - the OpenAI python library\n",
    "* `python-dotenv` - to load environment variables from a .env file "
   ]
  },
  {
   "cell_type": "markdown",
   "metadata": {},
   "source": [
    "## Load the environment variables\n",
    "\n",
    "We recommend creating a .env file with the following variables defined. .env files are ignored when pushing code to GitHub and are a good way to keep secrets out of your code.\n",
    "\n",
    "Also, we'll be reusing these variables in other notebooks, so it's a good idea to keep them in a single place.\n",
    "\n",
    "To use our own data, which is indexed in Azure AI Search, we need to provide the required environment variables."
   ]
  },
  {
   "cell_type": "code",
   "execution_count": null,
   "metadata": {},
   "outputs": [],
   "source": [
    "# Load the environment variables with dotenv\n",
    "from dotenv import load_dotenv\n",
    "load_dotenv()\n",
    "import os\n",
    "\n",
    "# Endpoint and API key can be found in Azure AI Studio -> Project Settings -> Project Properties -> Get API endpoints\n",
    "AZURE_OPENAI_ENDPOINT = os.getenv(\"AZURE_OPENAI_ENDPOINT\")\n",
    "AZURE_OPENAI_API_KEY = os.getenv(\"AZURE_OPENAI_API_KEY\")\n",
    "# The name of the deployment to tbe used. Found in Azure AI Studio -> Deployments\n",
    "AZURE_OPENAI_DEPLOYMENT_ID = os.getenv(\"AZURE_OPENAI_DEPLOYMENT_ID\")\n",
    "\n",
    "# Azure AI Search\n",
    "AZURE_AI_SEARCH_ENDPOINT = os.getenv(\"AZURE_AI_SEARCH_ENDPOINT\")\n",
    "AZURE_AI_SEARCH_API_KEY = os.getenv(\"AZURE_AI_SEARCH_API_KEY\")\n",
    "AZURE_AI_SEARCH_INDEX = os.getenv(\"AZURE_AI_SEARCH_INDEX\")\n",
    "\n",
    "# Print the endpoint to verify it was loaded correctly\n",
    "print('If you see some text below, the endpoint was loaded successfully.')\n",
    "print(AZURE_OPENAI_ENDPOINT)\n",
    "print(f'Using model {AZURE_OPENAI_DEPLOYMENT_ID}')"
   ]
  },
  {
   "cell_type": "code",
   "execution_count": null,
   "metadata": {},
   "outputs": [],
   "source": [
    "import openai\n",
    "\n",
    "# Create the client \n",
    "client = openai.AzureOpenAI(\n",
    "    azure_endpoint=AZURE_OPENAI_ENDPOINT,\n",
    "    api_key=AZURE_OPENAI_API_KEY,\n",
    "    api_version=\"2024-02-01\",\n",
    ")"
   ]
  },
  {
   "cell_type": "code",
   "execution_count": null,
   "metadata": {},
   "outputs": [],
   "source": [
    "# For convenience, use deployment as var instead of env var name\n",
    "deployment = AZURE_OPENAI_DEPLOYMENT_ID\n",
    "\n",
    "# By default, the OpenAI service does not know about our health plans\n",
    "completion = client.chat.completions.create(\n",
    "    model=deployment,\n",
    "    messages=[\n",
    "        {\n",
    "            \"role\": \"user\",\n",
    "            \"content\": \"Which health plans are available in my organization (Contoso)?\",\n",
    "        },\n",
    "    ]\n",
    ")\n",
    "\n",
    "# Get the response\n",
    "print(completion.choices[0].message.content)"
   ]
  },
  {
   "cell_type": "markdown",
   "metadata": {},
   "source": [
    "There are many ways to search our data and use it with the OpenAI service (eg: application logic, prompt flow, ...). \n",
    "\n",
    "Notice, however, we can pass the datastore as part of the extra_body parameter in the completion method. This is the most direct way to use our data."
   ]
  },
  {
   "cell_type": "code",
   "execution_count": null,
   "metadata": {},
   "outputs": [],
   "source": [
    "# Let's instruct the OpenAI service to query the data source where our data is hosted\n",
    "completion = client.chat.completions.create(\n",
    "    model=deployment,\n",
    "    messages=[\n",
    "        {\n",
    "            \"role\": \"user\",\n",
    "            \"content\": \"Which health plans are available in Contoso?\",\n",
    "        },\n",
    "    ],\n",
    "    extra_body={\n",
    "        \"data_sources\":[\n",
    "            {\n",
    "                \"type\": \"azure_search\",\n",
    "                \"parameters\": {\n",
    "                    \"endpoint\": AZURE_AI_SEARCH_ENDPOINT,\n",
    "                    \"index_name\": AZURE_AI_SEARCH_INDEX,\n",
    "                    \"authentication\": {\n",
    "                        \"type\": \"api_key\",\n",
    "                        \"key\": AZURE_AI_SEARCH_API_KEY,\n",
    "                    }\n",
    "                }\n",
    "            }\n",
    "        ],\n",
    "    }\n",
    ")\n",
    "\n",
    "# Get the response\n",
    "print(completion.choices[0].message.content)"
   ]
  }
 ],
 "metadata": {
  "kernelspec": {
   "display_name": "env",
   "language": "python",
   "name": "python3"
  },
  "language_info": {
   "codemirror_mode": {
    "name": "ipython",
    "version": 3
   },
   "file_extension": ".py",
   "mimetype": "text/x-python",
   "name": "python",
   "nbconvert_exporter": "python",
   "pygments_lexer": "ipython3",
   "version": "3.12.2"
  }
 },
 "nbformat": 4,
 "nbformat_minor": 2
}
