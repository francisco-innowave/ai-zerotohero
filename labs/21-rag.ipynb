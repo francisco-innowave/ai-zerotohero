{
 "cells": [
  {
   "cell_type": "markdown",
   "metadata": {},
   "source": [
    "# Lab 2.1 - The RAG (Retrieval Augmented Generation) Pattern\n",
    "\n",
    "From https://learn.microsoft.com/en-us/azure/search/retrieval-augmented-generation-overview:\n",
    "\n",
    "> Retrieval Augmented Generation (RAG) is an architecture that augments the capabilities of a Large Language Model (LLM) like ChatGPT by adding an information retrieval system that provides grounding data. Adding an information retrieval system gives you control over grounding data used by an LLM when it formulates a response. For an enterprise solution, RAG architecture means that you can constrain generative AI to your enterprise content sourced from vectorized documents and images, and other data formats if you have embedding models for that content.\n",
    "\n",
    "The RAG pattern is a combination of a retriever and a generator. The retriever is responsible for finding relevant documents from a large corpus, and the generator is responsible for generating the answer based on the retrieved documents.\n",
    "\n",
    "This is used in what's usually known as **ChatGPT on your own data**.\n",
    "\n",
    "![02.png](../img/rag.png)"
   ]
  },
  {
   "cell_type": "markdown",
   "metadata": {},
   "source": [
    "There are many ways to implement the RAG pattern, even within the Microsoft ecosystem:\n",
    "\n",
    "* [Copilot Studio](https://www.microsoft.com/en-us/microsoft-copilot/microsoft-copilot-studio) allows you to build, in a low-code way, a custom copilot which uses the RAG pattern. \n",
    "* [Azure AI Studio](https://azure.microsoft.com/en-us/products/ai-studio) also allows you to build a similar solution using a wizard in the playground. \n",
    "* You can also build a custom solution using your own chosen stack.\n",
    "\n",
    "In the next lab, we'll be using the RAG pattern inside Azure AI Studio as we add our own data."
   ]
  }
 ],
 "metadata": {
  "language_info": {
   "name": "python"
  }
 },
 "nbformat": 4,
 "nbformat_minor": 2
}
