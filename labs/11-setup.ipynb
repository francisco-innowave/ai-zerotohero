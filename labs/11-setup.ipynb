{
 "cells": [
  {
   "cell_type": "markdown",
   "metadata": {},
   "source": [
    "Welcome to the AI Zero to Hero labs. \n",
    "\n",
    "# Lab 1: Environment Setup\n",
    "\n",
    "This first lab is about making sure your environment is up and running.\n",
    "\n",
    "## Step 1.1: Requirements\n",
    "\n",
    "- Access to an Azure subscription\n",
    "- Azure OpenAI service whitelisted on that subscription\n",
    "- Visual Studio Code or access to GitHub Codespaces (recommended)\n",
    "- Optional: GitHub Copilot extension for Visual Studio Code (requires GitHub Copilot subscription)\n",
    "\n",
    "*Important:* We'll be using GPT-3.5-Turbo models for the lab. Please check the [GPT-3.5-Turbo model availability](https://learn.microsoft.com/en-us/azure/ai-services/openai/concepts/models#gpt-35-turbo-model-availability) before starting the labs and choose a region where the GPT model `gpt-35-turbo, 1106` you're going to use is available.\n",
    "\n",
    "## Step 1.2: Create an AI Hub\n",
    "\n",
    "Let's create an AI Hub in Azure AI Studio. This is your workspace where you will be able to create, manage, and share your AI projects.\n",
    "\n",
    "1. Go to [Azure AI Studio](https://studio.azure.ai)\n",
    "2. Click on \"Create AI Hub\"\n",
    "3. Fill in the required information\n",
    "4. Click on \"Create\"\n",
    "\n",
    "## Azure AI Hub\n",
    "\n",
    "With the hub created, let's explore the 4 main areas of Azure AI Studio:\n",
    "\n",
    "### Home\n",
    "\n",
    "Discover what you can do with Azure AI. There's project templates and links to GitHub repos to accelerate your deployment.\n",
    "\n",
    "You can also view your recent projects and access other Azure AI services.\n",
    "\n",
    "### Explore\n",
    "\n",
    "Browse available models from OpenAI, Meta, Mistral and many more that you can use in your projects. These can be deployed from AI Studio and used as a service.\n",
    "\n",
    "Compare benchmarks across models and datasets available in the industry to assess which one meets your business scenario.\n",
    "\n",
    "Prompt catalog is a collection of prompts samples that you can use to generate text, code, or other outputs from models.\n",
    "\n",
    "### Build\n",
    "\n",
    "This is where you can create your own projects. Once you have at least one project created, you'll be able, among other things, to:\n",
    "\n",
    "* Get API endpoimts and keys\n",
    "* Call a model using the playground and fine tune model responses\n",
    "* Evaluate the quality and safety of your generative AI applications\n",
    "* Implement AI logic orchestration with Prompt Flow\n",
    "* Fine-tune models (most likely you'll not need this)\n",
    "* Connect to your own data\n",
    "* Manage vector search indexes\n",
    "* Deploy multiple models\n",
    "* Manage inappropriate content using content filters\n",
    "\n",
    "Under Project Settings, you can also see resources used by your AI Hub, including any compute or storage. \n",
    "\n",
    "### Manage\n",
    "\n",
    "This is where you can perform administrative tasks, such as:\n",
    "\n",
    "* Manage access\n",
    "* Add friendly name and description \n",
    "* Manage compute instances and connected resources\n",
    "* View resource costs"
   ]
  },
  {
   "cell_type": "markdown",
   "metadata": {},
   "source": [
    "## Step 1.3: Create a new project\n",
    "\n",
    "1. Go to your AI Hub\n",
    "2. Click on \"Create new project\"\n",
    "3. Fill in the required information\n",
    "4. Click on \"Create\""
   ]
  }
 ],
 "metadata": {
  "kernelspec": {
   "display_name": "env",
   "language": "python",
   "name": "python3"
  },
  "language_info": {
   "codemirror_mode": {
    "name": "ipython",
    "version": 3
   },
   "file_extension": ".py",
   "mimetype": "text/x-python",
   "name": "python",
   "nbconvert_exporter": "python",
   "pygments_lexer": "ipython3",
   "version": "3.12.2"
  }
 },
 "nbformat": 4,
 "nbformat_minor": 2
}
