{
 "cells": [
  {
   "cell_type": "markdown",
   "metadata": {},
   "source": [
    "Welcome to the AI Zero to Hero labs. \n",
    "\n",
    "# Lab 1: Environment Setup\n",
    "\n",
    "This first lab is about making sure your environment is up and running.\n",
    "\n",
    "## Step 1.1: Requirements\n",
    "\n",
    "- Access to an Azure subscription\n",
    "- Azure OpenAI service whitelisted on that subscription\n",
    "- Visual Studio Code or access to GitHub Codespaces (recommended)\n",
    "- Optional: GitHub Copilot extension for Visual Studio Code (requires GitHub Copilot subscription)\n",
    "\n",
    "*Important:* We'll be using GPT-3.5-Turbo models for the lab. Please check the [GPT-3.5-Turbo model availability](https://learn.microsoft.com/en-us/azure/ai-services/openai/concepts/models#gpt-35-turbo-model-availability) before starting the labs and choose a region where the GPT model `gpt-35-turbo, 1106` you're going to use is available.\n",
    "\n",
    "## Step 1.2: Create an AI Hub\n",
    "\n",
    "Let's create an AI Hub in Azure AI Studio. This is your workspace where you will be able to create, manage, and share your AI projects.\n",
    "\n",
    "1. Go to [Azure AI Studio](https://studio.azure.ai)\n",
    "2. Click on \"Create AI Hub\"\n",
    "3. Fill in the required information\n",
    "4. Click on \"Create\"\n",
    "\n",
    "## Step 1.3: Create a new project\n",
    "\n",
    "1. Go to your AI Hub\n",
    "2. Click on \"Create new project\"\n",
    "3. Fill in the required information\n",
    "4. Click on \"Create\"\n",
    "\n"
   ]
  },
  {
   "cell_type": "markdown",
   "metadata": {},
   "source": [
    "Let's start interacting in the Playground."
   ]
  },
  {
   "cell_type": "code",
   "execution_count": null,
   "metadata": {},
   "outputs": [],
   "source": []
  }
 ],
 "metadata": {
  "kernelspec": {
   "display_name": "env",
   "language": "python",
   "name": "python3"
  },
  "language_info": {
   "codemirror_mode": {
    "name": "ipython",
    "version": 3
   },
   "file_extension": ".py",
   "mimetype": "text/x-python",
   "name": "python",
   "nbconvert_exporter": "python",
   "pygments_lexer": "ipython3",
   "version": "3.12.2"
  }
 },
 "nbformat": 4,
 "nbformat_minor": 2
}
