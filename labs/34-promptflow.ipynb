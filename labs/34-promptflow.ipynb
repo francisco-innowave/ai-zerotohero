{
 "cells": [
  {
   "cell_type": "markdown",
   "metadata": {},
   "source": [
    "# Lab 3.4 - Promptflow\n",
    "\n",
    "Follow the instructions at https://gloveboxes.github.io/prompt_flow_workshop/\n",
    "\n",
    "The GitHub repo is at https://github.com/gloveboxes/contoso-chat-proxy"
   ]
  }
 ],
 "metadata": {
  "language_info": {
   "name": "python"
  }
 },
 "nbformat": 4,
 "nbformat_minor": 2
}
